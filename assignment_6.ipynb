{
 "cells": [
  {
   "cell_type": "code",
   "execution_count": 4,
   "metadata": {},
   "outputs": [
    {
     "name": "stdout",
     "output_type": "stream",
     "text": [
      "HI-ACE is not registered\n",
      "ALTO is registered\n",
      "Black\n",
      "white\n",
      "there are 20 seat in cars\n"
     ]
    }
   ],
   "source": [
    "class Car():\n",
    "    def __init__(self,name,modal_no,car_reg,colour,seat):\n",
    "        \"\"\"attributes\"\"\"\n",
    "        self.name=name\n",
    "        self.modal_no=modal_no\n",
    "        self.car_reg=car_reg\n",
    "        self.colour=colour\n",
    "        self.seat=seat\n",
    "     ##behavior\n",
    "    def verify(self):\n",
    "        if self.car_reg==True:\n",
    "            print(\"{} is registered\".format(self.name))\n",
    "        else:\n",
    "            print(\"{} is not registered\".format(self.name))\n",
    "    def colour_change(self,a):\n",
    "        self.colour=a\n",
    "    def seat_car(self):\n",
    "        print(\"there are \"+self.seat+\" seat in cars\")\n",
    "        \n",
    "car1=Car(\"ALTO\",\"2018\",True,\"Black\",\"5\")\n",
    "car2=Car(\"PASSSO\",\"2018\",True,\"Black\",\"5\")\n",
    "car3=Car(\"HI-ACE\",\"2018\",False,\"Black\",\"20\")\n",
    "car4=Car(\"CITY\",\"2018\",True,\"Black\",\"5\")\n",
    "car5=Car(\"MEHRAN\",\"2018\",True,\"Black\",\"5\")\n",
    "\n",
    "car3.verify()\n",
    "car1.verify()\n",
    "print(car4.colour)\n",
    "car4.colour_change(\"white\")\n",
    "print(car4.colour)\n",
    "car3.seat_car()\n",
    "\n",
    "         "
   ]
  },
  {
   "cell_type": "code",
   "execution_count": null,
   "metadata": {},
   "outputs": [],
   "source": []
  },
  {
   "cell_type": "code",
   "execution_count": null,
   "metadata": {},
   "outputs": [],
   "source": []
  }
 ],
 "metadata": {
  "kernelspec": {
   "display_name": "Python 3",
   "language": "python",
   "name": "python3"
  },
  "language_info": {
   "codemirror_mode": {
    "name": "ipython",
    "version": 3
   },
   "file_extension": ".py",
   "mimetype": "text/x-python",
   "name": "python",
   "nbconvert_exporter": "python",
   "pygments_lexer": "ipython3",
   "version": "3.7.4"
  }
 },
 "nbformat": 4,
 "nbformat_minor": 2
}
