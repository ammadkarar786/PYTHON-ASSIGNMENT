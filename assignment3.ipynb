{
 "cells": [
  {
   "cell_type": "code",
   "execution_count": null,
   "metadata": {},
   "outputs": [],
   "source": []
  },
  {
   "cell_type": "code",
   "execution_count": 7,
   "metadata": {},
   "outputs": [
    {
     "name": "stdout",
     "output_type": "stream",
     "text": [
      "enter the number2\n",
      "enter second number3\n",
      "enter the operation to perform**\n",
      "the power is 8\n"
     ]
    }
   ],
   "source": [
    "\"\"\"\n",
    "Q1\n",
    "\"\"\"\n",
    "a=int(input(\"enter the number\"))\n",
    "b=int(input(\"enter second number\"))\n",
    "c=input(\"enter the operation to perform\")\n",
    "if c=='+':\n",
    "    print(\"the sum is \"+str(a+b))\n",
    "elif c=='-':\n",
    "    print(\"the difference is \"+str(a-b))\n",
    "elif c=='*':\n",
    "    print(\"the multiply is \"+str(a*b))\n",
    "elif c=='/':\n",
    "    print(\"the division is \"+str(a/b))\n",
    "elif c=='**':\n",
    "    print(\"the power is \"+str(a**b))\n",
    "else:\n",
    "    print(\"invalid operater\")"
   ]
  },
  {
   "cell_type": "code",
   "execution_count": 11,
   "metadata": {},
   "outputs": [
    {
     "name": "stdout",
     "output_type": "stream",
     "text": [
      "[1, 2, 9, 7]\n"
     ]
    }
   ],
   "source": [
    "\"\"\"\n",
    "Q2\n",
    "\"\"\"\n",
    "a=[1,2,\"phyton\",9,\"iot\",7,\"ali\"]\n",
    "b=[]\n",
    "\n",
    "for i in a:\n",
    "    if type(i)==int:\n",
    "        b.append(i)\n",
    "print(b)        \n",
    "        "
   ]
  },
  {
   "cell_type": "code",
   "execution_count": 18,
   "metadata": {},
   "outputs": [
    {
     "name": "stdout",
     "output_type": "stream",
     "text": [
      "enter the number of value you want to add5\n",
      "enter the valueali\n",
      "enter the valuesohail\n",
      "enter the valueammad\n",
      "enter the valuealeem\n",
      "enter the valueahsan\n",
      "{0: 'ali', 1: 'sohail', 2: 'ammad', 3: 'aleem', 4: 'ahsan'}\n"
     ]
    }
   ],
   "source": [
    "\"\"\"\n",
    "Q3\n",
    "\"\"\"\n",
    "a={}\n",
    "b=int(input(\"enter the number of value you want to add\"))\n",
    "for i in range(b):\n",
    "    c=input(\"enter the value\")\n",
    "    a[i]=c\n",
    "\n",
    "print(a)\n"
   ]
  },
  {
   "cell_type": "code",
   "execution_count": 23,
   "metadata": {},
   "outputs": [
    {
     "name": "stdout",
     "output_type": "stream",
     "text": [
      "the sum is= 105\n"
     ]
    }
   ],
   "source": [
    "\"\"\"\n",
    "Q4\n",
    "\"\"\"\n",
    "A={\n",
    "    1:4,\n",
    "    2:5,\n",
    "    3:7,\n",
    "    4:2,\n",
    "    5:9,\n",
    "    6:78,\n",
    "}\n",
    "b=0\n",
    "for i in A:\n",
    "    b+=A[i]\n",
    "print(\"the sum is= \"+str(b))    "
   ]
  },
  {
   "cell_type": "code",
   "execution_count": 28,
   "metadata": {},
   "outputs": [
    {
     "data": {
      "text/plain": [
       "[1, 2, 3, 4, 5, 6, 7, 8]"
      ]
     },
     "execution_count": 28,
     "metadata": {},
     "output_type": "execute_result"
    }
   ],
   "source": [
    "\"\"\"\n",
    "Q4\n",
    "\"\"\"\n",
    "a=[]\n",
    "b=[1,1,2,3,4,4,5,6,6,7,8,8]\n",
    "\n",
    "for i in b:\n",
    "    if not i in a:\n",
    "        a.append(i)\n",
    "a        "
   ]
  },
  {
   "cell_type": "code",
   "execution_count": 30,
   "metadata": {},
   "outputs": [
    {
     "name": "stdout",
     "output_type": "stream",
     "text": [
      "enter the key to check8\n",
      "key is not in Dictionary\n"
     ]
    }
   ],
   "source": [
    "\"\"\"\n",
    "Q5\n",
    "\"\"\"\n",
    "A={\n",
    "    1:\"ALI\",\n",
    "    2:\"ALEEM\",\n",
    "    3:\"ASAD\",\n",
    "    4:\"AMMAD\",\n",
    "}\n",
    "b=int(input(\"enter the key to check\"))\n",
    "if not b in A:\n",
    "    print(\"key is not in Dictionary\")\n",
    "else:\n",
    "    print(\"key is in Dictionary\")\n",
    "\n",
    "\n"
   ]
  },
  {
   "cell_type": "code",
   "execution_count": null,
   "metadata": {},
   "outputs": [],
   "source": []
  },
  {
   "cell_type": "code",
   "execution_count": null,
   "metadata": {},
   "outputs": [],
   "source": []
  }
 ],
 "metadata": {
  "kernelspec": {
   "display_name": "Python 3",
   "language": "python",
   "name": "python3"
  },
  "language_info": {
   "codemirror_mode": {
    "name": "ipython",
    "version": 3
   },
   "file_extension": ".py",
   "mimetype": "text/x-python",
   "name": "python",
   "nbconvert_exporter": "python",
   "pygments_lexer": "ipython3",
   "version": "3.7.4"
  }
 },
 "nbformat": 4,
 "nbformat_minor": 2
}
