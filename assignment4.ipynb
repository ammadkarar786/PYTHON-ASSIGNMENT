{
 "cells": [
  {
   "cell_type": "code",
   "execution_count": 13,
   "metadata": {},
   "outputs": [
    {
     "name": "stdout",
     "output_type": "stream",
     "text": [
      "{'first_name': 'usaid', 'last_name': 'ali', 'age': 50, 'city': 'Karachi'}\n",
      "{'first_name': 'usaid', 'last_name': 'ali', 'age': 50, 'city': 'Karachi', 'qualification': 'engineering'}\n",
      "\n",
      "{'first_name': 'usaid', 'last_name': 'ali', 'age': 50, 'city': 'Karachi'}\n"
     ]
    }
   ],
   "source": [
    "\"\"\"\n",
    "question #1\n",
    "ammad sohail karar\n",
    "\"\"\"\n",
    "a={\n",
    "    \"first_name\":\"usaid\",\n",
    "    \"last_name\":\"ali\",\n",
    "    \"age\":50,\n",
    "    \"city\":\"Karachi\",\n",
    "}\n",
    "print(a)\n",
    "##adding\n",
    "a[\"qualification\"]=\"engineering\"\n",
    "print(str(a)+\"\\n\")\n",
    "##delete\n",
    "del a[\"qualification\"]\n",
    "print (a)\n"
   ]
  },
  {
   "cell_type": "code",
   "execution_count": 22,
   "metadata": {},
   "outputs": [
    {
     "name": "stdout",
     "output_type": "stream",
     "text": [
      "Karachi\n",
      "{'country': 'Pakistan', 'population': '2 million', 'fact': 'City of light '}\n",
      "Multan\n",
      "{'country': 'Pakistan', 'population': '0.5 million', 'fact': 'City of saints '}\n",
      "Islamabad\n",
      "{'country': 'Pakistan', 'population': '1.3 million', 'fact': 'Capital of Pakistan '}\n"
     ]
    }
   ],
   "source": [
    "\"\"\"\n",
    "question 2\n",
    "Ammad Sohail Karar\n",
    "\"\"\"\n",
    "cities={\n",
    "    \"Karachi\":{\n",
    "        \"country\":\"Pakistan\",\n",
    "        \"population\":\"2 million\",\n",
    "        \"fact\":\"City of light \"\n",
    "    },\n",
    "  \"Multan\":{\n",
    "      \n",
    "        \"country\":\"Pakistan\",\n",
    "        \"population\":\"0.5 million\",\n",
    "        \"fact\":\"City of saints \"\n",
    "      },\n",
    "\"Islamabad\":{\n",
    "    \n",
    "        \"country\":\"Pakistan\",\n",
    "        \"population\":\"1.3 million\",\n",
    "        \"fact\":\"Capital of Pakistan \"\n",
    "}\n",
    "    \n",
    "}\n",
    "for ia in  cities:\n",
    "    print(ia)\n",
    "    print(cities[ia])"
   ]
  },
  {
   "cell_type": "code",
   "execution_count": 28,
   "metadata": {},
   "outputs": [
    {
     "name": "stdout",
     "output_type": "stream",
     "text": [
      "Movie ticket\n",
      "enter the number of family member3\n",
      "welcome please write your age3\n",
      "there is no ticket for you go and enjoy\n",
      "welcome please write your age10\n",
      "You have to pay $10\n",
      "welcome please write your age17\n",
      "you have to pay $15\n"
     ]
    }
   ],
   "source": [
    "\"\"\"\n",
    "question 3\n",
    "Ammad Sohail Karar\n",
    "\"\"\"\n",
    "print(\"Movie ticket\")\n",
    "member=int(input(\"enter the number of family member\"))\n",
    "for i in range(0,member):\n",
    "    age=int(input(\"welcome please write your age\"))\n",
    "    if age<=3:\n",
    "        print(\"there is no ticket for you go and enjoy\")\n",
    "    elif age>=3 and age<=12:\n",
    "        print(\"You have to pay $10\")\n",
    "    elif age>12:\n",
    "        print(\"you have to pay $15\")\n",
    "\n",
    "    \n",
    " "
   ]
  },
  {
   "cell_type": "code",
   "execution_count": 30,
   "metadata": {
    "scrolled": true
   },
   "outputs": [
    {
     "name": "stdout",
     "output_type": "stream",
     "text": [
      "I like this book Alice in Wonderland\n",
      "i have read this book\n",
      "One of my favorite book Alice in Wonderland\n"
     ]
    }
   ],
   "source": [
    "def favorite_book(title):\n",
    "    print(\"I like this book \"+ title)\n",
    "    print(\"i have read this book\")\n",
    "    print(\"One of my favorite book \"+ title)\n",
    "    \n",
    "favorite_book(\"Alice in Wonderland\")"
   ]
  },
  {
   "cell_type": "code",
   "execution_count": 20,
   "metadata": {},
   "outputs": [
    {
     "name": "stdout",
     "output_type": "stream",
     "text": [
      "welcome to game you have to guess let's start\n",
      "4\n",
      "chance no 1\n",
      "enter the number4\n",
      "congratulation! you have guess right\n",
      "THE END\n"
     ]
    }
   ],
   "source": [
    "\"\"\"\n",
    "Guessing game\n",
    "\"\"\"\n",
    "import random\n",
    "value=random.randint(0,30)\n",
    "print(\"welcome to game you have to guess let's start\")\n",
    "print(value)\n",
    "for i in range(0,3):\n",
    "    print(\"chance no \"+ str(i+1))\n",
    "    number=int(input(\"enter the number\"))\n",
    "    if number <value:\n",
    "        print(\"enter number is less then actual number\")\n",
    "    elif number > value:\n",
    "        print(\"enter number is bigger then actual number\")\n",
    "    elif number==value:\n",
    "        print(\"congratulation! you have guess right\")\n",
    "        print(\"THE END\")\n",
    "        break\n",
    "if number!=value:\n",
    "    print(\"the actual number is=\"+ str(value))\n",
    "    print(\"Hard luck this time\")        \n",
    "    print(\"THE END\")\n",
    "        \n",
    "     "
   ]
  },
  {
   "cell_type": "code",
   "execution_count": null,
   "metadata": {},
   "outputs": [],
   "source": []
  },
  {
   "cell_type": "code",
   "execution_count": null,
   "metadata": {},
   "outputs": [],
   "source": []
  }
 ],
 "metadata": {
  "kernelspec": {
   "display_name": "Python 3",
   "language": "python",
   "name": "python3"
  },
  "language_info": {
   "codemirror_mode": {
    "name": "ipython",
    "version": 3
   },
   "file_extension": ".py",
   "mimetype": "text/x-python",
   "name": "python",
   "nbconvert_exporter": "python",
   "pygments_lexer": "ipython3",
   "version": "3.7.4"
  }
 },
 "nbformat": 4,
 "nbformat_minor": 2
}
