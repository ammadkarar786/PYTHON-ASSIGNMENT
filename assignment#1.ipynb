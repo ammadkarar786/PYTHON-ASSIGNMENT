{
 "cells": [
  {
   "cell_type": "code",
   "execution_count": 1,
   "metadata": {},
   "outputs": [
    {
     "name": "stdout",
     "output_type": "stream",
     "text": [
      "Twikle, twinkle,little star\n",
      "      How i wonder what are you doing\n",
      "          up above the world so high\n",
      "          like a diamond in the sky\n",
      "Twikle, twinkle,little star\n",
      "      How i wonder what are you doing\n"
     ]
    }
   ],
   "source": [
    "print(\"Twikle, twinkle,little star\")\n",
    "print(\"      How i wonder what are you doing\")\n",
    "print(\"          up above the world so high\")\n",
    "print(\"          like a diamond in the sky\")\n",
    "print(\"Twikle, twinkle,little star\")\n",
    "print(\"      How i wonder what are you doing\")\n"
   ]
  },
  {
   "cell_type": "code",
   "execution_count": 2,
   "metadata": {},
   "outputs": [
    {
     "name": "stdout",
     "output_type": "stream",
     "text": [
      "3.7.4\n"
     ]
    }
   ],
   "source": [
    "from platform import python_version\n",
    "print(python_version())"
   ]
  },
  {
   "cell_type": "code",
   "execution_count": 3,
   "metadata": {},
   "outputs": [
    {
     "name": "stdout",
     "output_type": "stream",
     "text": [
      "Date:\n",
      "2-11-2019\n",
      "Time:\n",
      "12:49 PM\n"
     ]
    }
   ],
   "source": [
    "print(\"Date:\")\n",
    "print(\"2-11-2019\")\n",
    "print(\"Time:\")\n",
    "print(\"12:49 PM\")\n"
   ]
  },
  {
   "cell_type": "code",
   "execution_count": 4,
   "metadata": {},
   "outputs": [
    {
     "name": "stdout",
     "output_type": "stream",
     "text": [
      "enter the radius 5\n",
      "The area is :\n",
      "78.57142857142857\n"
     ]
    }
   ],
   "source": [
    "a=float(input(\"enter the radius \"))\n",
    "b=(22/7)*a**2\n",
    "print(\"The area is :\")\n",
    "print(b)"
   ]
  },
  {
   "cell_type": "code",
   "execution_count": 5,
   "metadata": {},
   "outputs": [
    {
     "name": "stdout",
     "output_type": "stream",
     "text": [
      "enter the first nameammad \n",
      "enter the last namekarar\n",
      "karar ammad \n"
     ]
    }
   ],
   "source": [
    "first_name=input(\"enter the first name\")\n",
    "last_name=input(\"enter the last name\")\n",
    "print(last_name+\" \"+first_name)\n"
   ]
  },
  {
   "cell_type": "code",
   "execution_count": 6,
   "metadata": {},
   "outputs": [
    {
     "name": "stdout",
     "output_type": "stream",
     "text": [
      "enter first number8\n",
      "enter second number8\n",
      "the sum is 16\n"
     ]
    }
   ],
   "source": [
    "a=int(input(\"enter first number\"))\n",
    "b=int(input(\"enter second number\"))\n",
    "sum=a+b\n",
    "sum1=str(sum)\n",
    "print(\"the sum is \"+ sum1)"
   ]
  },
  {
   "cell_type": "code",
   "execution_count": null,
   "metadata": {},
   "outputs": [],
   "source": []
  }
 ],
 "metadata": {
  "kernelspec": {
   "display_name": "Python 3",
   "language": "python",
   "name": "python3"
  },
  "language_info": {
   "codemirror_mode": {
    "name": "ipython",
    "version": 3
   },
   "file_extension": ".py",
   "mimetype": "text/x-python",
   "name": "python",
   "nbconvert_exporter": "python",
   "pygments_lexer": "ipython3",
   "version": "3.7.4"
  }
 },
 "nbformat": 4,
 "nbformat_minor": 2
}
