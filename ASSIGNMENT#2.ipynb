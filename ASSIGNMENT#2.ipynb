{
 "cells": [
  {
   "cell_type": "code",
   "execution_count": 5,
   "metadata": {},
   "outputs": [
    {
     "name": "stdout",
     "output_type": "stream",
     "text": [
      "enter the marks of subject #1 67\n",
      "enter the marks of subject #2 87\n",
      "enter the marks of subject #3 78\n",
      "enter the marks of subject #4 98\n",
      "enter the marks of subject #5 67\n",
      " Grade A\n"
     ]
    }
   ],
   "source": [
    "\"\"\"\n",
    "assignment # 2\n",
    "pyton PY00492\n",
    "\"\"\"\n",
    "s1=int(input(\"enter the marks of subject #1 \"))\n",
    "s2=int(input(\"enter the marks of subject #2 \"))\n",
    "s3=int(input(\"enter the marks of subject #3 \"))\n",
    "s4=int(input(\"enter the marks of subject #4 \"))\n",
    "s5=int(input(\"enter the marks of subject #5 \"))\n",
    "\n",
    "per=(s1+s2+s3+s4+s5)/5\n",
    "if per>=80 and per<=100:\n",
    " print(\" Grade A+\")\n",
    "elif per<80 and per>=70:\n",
    " print(\" Grade A\")\n",
    "elif per<70 and per>=60:\n",
    " print(\" Grade B\")\n",
    "elif per<60 and per>=50 :\n",
    " print(\" Grade C\")\n",
    "elif per<50 and per>=40:\n",
    " print(\" Grade D\")\n",
    "elif per<50 and per>=0:\n",
    " print(\" Grade F\")\n",
    "else:\n",
    " print(\"invalid score\")"
   ]
  },
  {
   "cell_type": "code",
   "execution_count": 3,
   "metadata": {},
   "outputs": [
    {
     "name": "stdout",
     "output_type": "stream",
     "text": [
      "enter the number7\n",
      "it is an odd number\n"
     ]
    }
   ],
   "source": [
    "\"\"\"\n",
    "question #2\n",
    "\"\"\"\n",
    "a=int(input(\"enter the number\"))\n",
    "\n",
    "if a%2==0:\n",
    "    print(\"it is an even number\")\n",
    "else:\n",
    "    print(\"it is an odd number\")"
   ]
  },
  {
   "cell_type": "code",
   "execution_count": 7,
   "metadata": {},
   "outputs": [
    {
     "name": "stdout",
     "output_type": "stream",
     "text": [
      "the lenght of list is 8\n"
     ]
    }
   ],
   "source": [
    "\"\"\"\n",
    "question #3\n",
    "\"\"\"\n",
    "a=[1,2,3,4,5,6,7,8]\n",
    "b=len(a)\n",
    "print(\"the lenght of list is \"+str(b))"
   ]
  },
  {
   "cell_type": "code",
   "execution_count": 14,
   "metadata": {},
   "outputs": [
    {
     "name": "stdout",
     "output_type": "stream",
     "text": [
      "45\n"
     ]
    }
   ],
   "source": [
    "\"\"\"\n",
    "question #4\n",
    "\"\"\"\n",
    "a=[1,2,3,4,5,6,7,8,9]\n",
    "b=0\n",
    "for i in a:\n",
    "    b+=i\n",
    "print(b)\n"
   ]
  },
  {
   "cell_type": "code",
   "execution_count": 17,
   "metadata": {},
   "outputs": [
    {
     "name": "stdout",
     "output_type": "stream",
     "text": [
      "945\n"
     ]
    }
   ],
   "source": [
    "\"\"\"\n",
    "question #5\n",
    "\"\"\"\n",
    "a=[9,67,9,4,7,36,945,567]\n",
    "max=a[0]\n",
    "for i in a:\n",
    "    if max<i:\n",
    "        max=i\n",
    "\n",
    "print(max)        "
   ]
  },
  {
   "cell_type": "code",
   "execution_count": null,
   "metadata": {},
   "outputs": [],
   "source": []
  }
 ],
 "metadata": {
  "kernelspec": {
   "display_name": "Python 3",
   "language": "python",
   "name": "python3"
  },
  "language_info": {
   "codemirror_mode": {
    "name": "ipython",
    "version": 3
   },
   "file_extension": ".py",
   "mimetype": "text/x-python",
   "name": "python",
   "nbconvert_exporter": "python",
   "pygments_lexer": "ipython3",
   "version": "3.7.4"
  }
 },
 "nbformat": 4,
 "nbformat_minor": 2
}
